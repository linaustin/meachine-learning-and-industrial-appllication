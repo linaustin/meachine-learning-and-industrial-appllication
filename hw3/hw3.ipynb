{
 "cells": [
  {
   "cell_type": "code",
   "execution_count": 90,
   "metadata": {},
   "outputs": [],
   "source": [
    "import numpy as np\n",
    "from sklearn.model_selection import train_test_split\n",
    "from sklearn.neighbors import KNeighborsClassifier\n",
    "from ML_tool import file_tool\n",
    "from ML_tool import knn_tool"
   ]
  },
  {
   "cell_type": "code",
   "execution_count": 91,
   "metadata": {},
   "outputs": [],
   "source": [
    "input_file = file_tool.input_file('./0811074_linyuanchi_iris_data.csv')\n",
    "input_file.read_from_file()\n",
    "data_list = input_file.sort_iris_data()\n",
    "iris_data = np.array(data_list)"
   ]
  },
  {
   "cell_type": "code",
   "execution_count": 92,
   "metadata": {},
   "outputs": [],
   "source": [
    "knn_model = knn_tool.knn(5)\n",
    "\n",
    "while True:\n",
    "    np.random.shuffle(iris_data)\n",
    "    x_train = iris_data[:112, 0:4]\n",
    "    y_train = iris_data[:112, 4]\n",
    "\n",
    "    x_test = iris_data[112:, 0:4]\n",
    "    y_test = iris_data[112:, 4]\n",
    "\n",
    "    knn_model.train(x_train, y_train)\n",
    "\n",
    "    if(knn_model.score(x_test, y_test) == 1):\n",
    "        break"
   ]
  },
  {
   "cell_type": "code",
   "execution_count": 93,
   "metadata": {},
   "outputs": [
    {
     "name": "stdout",
     "output_type": "stream",
     "text": [
      "the predict of test data 1 is : setosa (0)\n",
      "the predict of test data 2 is : versicolor (1)\n"
     ]
    }
   ],
   "source": [
    "test_data = np.array([[5, 2.9, 1, 0.2], [3, 2.2, 4, 0.9]])\n",
    "test_result = knn_model.predict(test_data)\n",
    "\n",
    "predict_result = {0: 'setosa (0)', 1: 'versicolor (1)', 2: 'virginica (2)'}\n",
    "\n",
    "for i in range(len(test_result)):\n",
    "    print(f\"the predict of test data {i+1} is : {predict_result.get(test_result[i])}\")\n"
   ]
  }
 ],
 "metadata": {
  "kernelspec": {
   "display_name": "Python 3.9.12 ('base')",
   "language": "python",
   "name": "python3"
  },
  "language_info": {
   "codemirror_mode": {
    "name": "ipython",
    "version": 3
   },
   "file_extension": ".py",
   "mimetype": "text/x-python",
   "name": "python",
   "nbconvert_exporter": "python",
   "pygments_lexer": "ipython3",
   "version": "3.9.12"
  },
  "orig_nbformat": 4,
  "vscode": {
   "interpreter": {
    "hash": "b5fbbcf22b139417e008803b3e2cbc70cb85acf98954c351416a6d3da305ab5e"
   }
  }
 },
 "nbformat": 4,
 "nbformat_minor": 2
}
