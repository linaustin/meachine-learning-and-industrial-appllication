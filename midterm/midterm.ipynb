{
 "cells": [
  {
   "cell_type": "code",
   "execution_count": 1,
   "metadata": {},
   "outputs": [],
   "source": [
    "import numpy as np\n",
    "from sklearn.neighbors import KNeighborsRegressor\n",
    "from sklearn.model_selection import train_test_split"
   ]
  },
  {
   "cell_type": "code",
   "execution_count": 2,
   "metadata": {},
   "outputs": [],
   "source": [
    "class input_file:\n",
    "    def __init__(self, file_path):\n",
    "        self.__path = str(file_path)\n",
    "        self.__raw_data = '' \n",
    "\n",
    "    def read_from_file(self):\n",
    "        file = open(self.__path, 'r')\n",
    "        self.__raw_data = file.readlines()\n",
    "        file.close()\n",
    "\n",
    "        for i in range(len(self.__raw_data)):\n",
    "            self.__raw_data[i] = self.__raw_data[i].rstrip('\\n')\n",
    "\n",
    "    def get_raw_data(self):\n",
    "        return self.__raw_data\n",
    "\n",
    "    def sort_iris_data(self):\n",
    "        temp = []\n",
    "\n",
    "        for data in self.__raw_data:\n",
    "            data = data.rstrip(', ')\n",
    "            data = data.split(',')\n",
    "\n",
    "            for i in range(len(data)):\n",
    "                try:\n",
    "                    data[i] = float(data[i])\n",
    "                except:\n",
    "                    print(f'raw data cant cast to float : {data[i]}')\n",
    "                    return None\n",
    "\n",
    "            temp.append(data)\n",
    "\n",
    "        return temp\n",
    "\n",
    "    def sort_wave_dataset(self):\n",
    "        x_data = []\n",
    "        y_data = []\n",
    "        \n",
    "        for i in range(len(self.__raw_data)):\n",
    "            self.__raw_data[i] = self.__raw_data[i].strip()\n",
    "            self.__raw_data[i] = self.__raw_data[i].lstrip('[')\n",
    "            self.__raw_data[i] = self.__raw_data[i].rstrip(']')\n",
    "            self.__raw_data[i] = self.__raw_data[i].strip()\n",
    "\n",
    "        x_head = self.__raw_data.index('X inputs:')\n",
    "        y_head = self.__raw_data.index('y target:')\n",
    "\n",
    "        for data in self.__raw_data[x_head+1:y_head]:\n",
    "            x_data.append(float(data))\n",
    "        \n",
    "        for data in self.__raw_data[y_head+1:]:\n",
    "            data = data.split()\n",
    "            for number in data:\n",
    "                y_data.append(float(number))\n",
    "\n",
    "        return [x_data, y_data]"
   ]
  },
  {
   "cell_type": "code",
   "execution_count": 3,
   "metadata": {},
   "outputs": [],
   "source": [
    "class knn_regresor:\n",
    "    def __init__(self, neighbor_number, weight_type):\n",
    "        self.__knn_regresor = KNeighborsRegressor(n_neighbors= neighbor_number, weights = weight_type)\n",
    "        self.neighbor_number = neighbor_number\n",
    "        self.weight = weight_type\n",
    "\n",
    "    def train(self, x_train, y_train):\n",
    "        x_train = x_train.reshape(-1, 1)\n",
    "        self.__knn_regresor.fit(x_train, y_train)\n",
    "\n",
    "    def predict(self, test_data):\n",
    "        test_data = test_data.reshape(-1, 1)\n",
    "        return self.__knn_regresor.predict(test_data)\n",
    "\n",
    "    def score(self, x_test, y_test):\n",
    "        x_test = x_test.reshape(-1, 1)\n",
    "        return self.__knn_regresor.score(x_test, y_test)"
   ]
  },
  {
   "cell_type": "code",
   "execution_count": 4,
   "metadata": {},
   "outputs": [
    {
     "name": "stdout",
     "output_type": "stream",
     "text": [
      "(50, 1)\n",
      "(10, 1)\n"
     ]
    }
   ],
   "source": [
    "wave_file = input_file('./wave60_dataset.txt')\n",
    "wave_file.read_from_file()\n",
    "raw_x_data, raw_y_data = wave_file.sort_wave_dataset()\n",
    "\n",
    "raw_x_data = np.array(raw_x_data)\n",
    "raw_y_data = np.array(raw_y_data)\n",
    "\n",
    "x_train, x_test, y_train, y_test = train_test_split(raw_x_data, raw_y_data, test_size=0.16)\n",
    "\n",
    "x_train = x_train.reshape(-1, 1)\n",
    "x_test = x_test.reshape(-1, 1)\n",
    "\n",
    "print(x_train.shape)\n",
    "print(x_test.shape)"
   ]
  },
  {
   "cell_type": "code",
   "execution_count": 5,
   "metadata": {},
   "outputs": [
    {
     "name": "stdout",
     "output_type": "stream",
     "text": [
      "uniform , KNN=1, x_test/x_train score = 0.50/1.00\n",
      "uniform , KNN=3, x_test/x_train score = 0.77/0.84\n",
      "uniform , KNN=5, x_test/x_train score = 0.84/0.82\n",
      "uniform , KNN=7, x_test/x_train score = 0.83/0.78\n",
      "uniform , KNN=9, x_test/x_train score = 0.86/0.73\n",
      "\n",
      "distance , KNN=1, x_test/x_train score = 0.50/1.00\n",
      "distance , KNN=3, x_test/x_train score = 0.70/1.00\n",
      "distance , KNN=5, x_test/x_train score = 0.75/1.00\n",
      "distance , KNN=7, x_test/x_train score = 0.76/1.00\n",
      "distance , KNN=9, x_test/x_train score = 0.77/1.00\n"
     ]
    }
   ],
   "source": [
    "knn_uniform = []\n",
    "knn_distance = []\n",
    "\n",
    "for i in range (1,10,2):\n",
    "    knn_uniform.append(knn_regresor(i, 'uniform'))\n",
    "    knn_distance.append(knn_regresor(i, 'distance'))\n",
    "\n",
    "for i in range(len(knn_uniform)):\n",
    "    knn_uniform[i].train(x_train, y_train)\n",
    "    knn_distance[i].train(x_train, y_train) \n",
    "\n",
    "for i in range(len(knn_uniform)):\n",
    "    print(f'{knn_uniform[i].weight} , KNN={knn_uniform[i].neighbor_number}, ', end='')\n",
    "    print('x_test/x_train score = ', end= '')\n",
    "    print(f'{knn_uniform[i].score(x_test, y_test):.2f}/{knn_uniform[i].score(x_train, y_train):.2f}')\n",
    "\n",
    "print()\n",
    "\n",
    "for i in range(len(knn_distance)):\n",
    "    print(f'{knn_distance[i].weight} , KNN={knn_distance[i].neighbor_number}, ', end='')\n",
    "    print('x_test/x_train score = ', end= '')\n",
    "    print(f'{knn_distance[i].score(x_test, y_test):.2f}/{knn_distance[i].score(x_train, y_train):.2f}')"
   ]
  }
 ],
 "metadata": {
  "kernelspec": {
   "display_name": "Python 3.9.12 ('base')",
   "language": "python",
   "name": "python3"
  },
  "language_info": {
   "codemirror_mode": {
    "name": "ipython",
    "version": 3
   },
   "file_extension": ".py",
   "mimetype": "text/x-python",
   "name": "python",
   "nbconvert_exporter": "python",
   "pygments_lexer": "ipython3",
   "version": "3.9.12"
  },
  "orig_nbformat": 4,
  "vscode": {
   "interpreter": {
    "hash": "b5fbbcf22b139417e008803b3e2cbc70cb85acf98954c351416a6d3da305ab5e"
   }
  }
 },
 "nbformat": 4,
 "nbformat_minor": 2
}
