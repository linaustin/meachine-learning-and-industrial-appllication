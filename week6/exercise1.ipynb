{
 "cells": [
  {
   "cell_type": "code",
   "execution_count": 84,
   "metadata": {},
   "outputs": [],
   "source": [
    "import numpy as np\n",
    "from sklearn.model_selection import train_test_split\n",
    "from ML_tool import file_tool\n",
    "from ML_tool import knn_tool\n",
    "from sklearn.neighbors import KNeighborsRegressor"
   ]
  },
  {
   "cell_type": "code",
   "execution_count": 85,
   "metadata": {},
   "outputs": [
    {
     "name": "stdout",
     "output_type": "stream",
     "text": [
      "[-0.75275929, 2.70428584, 1.39196365, 0.59195091, -2.06388816, -2.06403288, -2.65149833, 2.19705687, 0.60669007, 1.24843547, -2.87649303, 2.81945911, 1.99465584, -1.72596534, -1.9090502, -1.89957294, -1.17454654, 0.14853859, -0.40832989, -1.25262516, 0.67111737, -2.16303684, -1.24713211, -0.80182894, -0.26358009, 1.71105577, -1.80195731, 0.08540663, 0.55448741, -2.72129752, 0.64526911, -1.97685526, -2.60969044, 2.69331322, 2.7937922, 1.85038409, -1.17231738, -2.41396732, 1.10539816, -0.35908504] [-0.44822073, 0.33122576, 0.77932073, 0.03497884, -1.38773632, -2.47196233, -1.52730805, 1.49417157, 1.00032374, 0.22956153, -1.05979555, 0.7789638, 0.75418806, -1.51369739, -1.67303415, -0.90496988, 0.08448544, -0.52734666, -0.54114599, -0.3409073, 0.21778193, -1.12469096, 0.37299129, 0.09756349, -0.98618122, 0.96695428, -1.13455014, 0.69798591, 0.43655826, -0.95652133, 0.03527881, -2.08581717, -0.47411033, 1.53708251, 0.86893293, 1.87664889, 0.0945257, -1.41502356, 0.25438895, 0.09398858]\n"
     ]
    }
   ],
   "source": [
    "input_file = file_tool.input_file('./wave40_dataset_scikit_Xy.txt')\n",
    "input_file.read_from_file()\n",
    "x_raw, y_raw = input_file.sort_wave40_dataset()\n",
    "print(x_raw, y_raw)"
   ]
  },
  {
   "cell_type": "code",
   "execution_count": 107,
   "metadata": {},
   "outputs": [],
   "source": [
    "x_raw = np.array(x_raw)\n",
    "y_raw = np.array(y_raw)\n",
    "x_train, x_test, y_train, y_test = train_test_split(x_raw, y_raw, test_size=0.2)"
   ]
  },
  {
   "cell_type": "code",
   "execution_count": 109,
   "metadata": {},
   "outputs": [
    {
     "name": "stdout",
     "output_type": "stream",
     "text": [
      "(32,)\n",
      "0.839942232408637 0.8199446767311955\n"
     ]
    }
   ],
   "source": [
    "reg = KNeighborsRegressor(n_neighbors = 3)\n",
    "x_train = x_train.reshape(-1, 1)\n",
    "x_test = x_test.reshape(-1, 1)\n",
    "\n",
    "print(y_train.shape)\n",
    "\n",
    "reg.fit(x_train, y_train)\n",
    "print(reg.score(x_train, y_train),reg.score(x_test, y_test))"
   ]
  }
 ],
 "metadata": {
  "kernelspec": {
   "display_name": "Python 3.9.12 ('base')",
   "language": "python",
   "name": "python3"
  },
  "language_info": {
   "codemirror_mode": {
    "name": "ipython",
    "version": 3
   },
   "file_extension": ".py",
   "mimetype": "text/x-python",
   "name": "python",
   "nbconvert_exporter": "python",
   "pygments_lexer": "ipython3",
   "version": "3.9.12"
  },
  "orig_nbformat": 4,
  "vscode": {
   "interpreter": {
    "hash": "b5fbbcf22b139417e008803b3e2cbc70cb85acf98954c351416a6d3da305ab5e"
   }
  }
 },
 "nbformat": 4,
 "nbformat_minor": 2
}
