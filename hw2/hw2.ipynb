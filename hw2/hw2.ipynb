{
 "cells": [
  {
   "cell_type": "code",
   "execution_count": 51,
   "metadata": {},
   "outputs": [],
   "source": [
    "import numpy as np\n",
    "import matplotlib.pyplot as plt"
   ]
  },
  {
   "cell_type": "markdown",
   "metadata": {},
   "source": [
    "import numpy and pyplot"
   ]
  },
  {
   "cell_type": "code",
   "execution_count": 52,
   "metadata": {},
   "outputs": [],
   "source": [
    "input_file = open('iris_dataset.txt', 'r')\n",
    "\n",
    "raw_data = input_file.readlines()\n",
    "\n",
    "for i in range(len(raw_data)):\n",
    "    raw_data[i] = raw_data[i].lstrip(' [')\n",
    "    raw_data[i] = raw_data[i].rstrip(']\\n')\n",
    "    raw_data[i] = raw_data[i].strip()\n",
    "\n",
    "inputs_tag = raw_data.index('all inputs:')\n",
    "target_tag = raw_data.index('all targets:')\n",
    "\n",
    "raw_inputs = raw_data[inputs_tag+1:target_tag]\n",
    "raw_target = raw_data[target_tag+1:]\n",
    "\n",
    "# print(len(raw_inputs))\n",
    "# print(len(raw_target))\n",
    "\n",
    "input_file.close()"
   ]
  },
  {
   "cell_type": "markdown",
   "metadata": {},
   "source": [
    "get inputs string list and target string list"
   ]
  },
  {
   "cell_type": "code",
   "execution_count": 53,
   "metadata": {},
   "outputs": [],
   "source": [
    "count = 0\n",
    "\n",
    "for data in raw_inputs:\n",
    "    count+=1\n",
    "\n",
    "    temp = data.split()\n",
    "    \n",
    "    for i in range(len(temp)):\n",
    "        temp[i] = float(temp[i])\n",
    "\n",
    "    if(count == 1):\n",
    "        inputs = np.array(temp)\n",
    "    else:\n",
    "        np_temp = np.array(temp)\n",
    "        inputs = np.vstack((inputs,np_temp))\n",
    "\n",
    "count = 0\n",
    "\n",
    "for data in raw_target:\n",
    "    temp = data.split()\n",
    "\n",
    "    for i in range(len(temp)):\n",
    "        temp[i] = float(temp[i])\n",
    "    \n",
    "    for element in temp:\n",
    "        count+=1\n",
    "\n",
    "        if(count ==  1):\n",
    "            targets = np.array([element])\n",
    "        else:\n",
    "            np_temp = np.array(element)\n",
    "            targets = np.vstack((targets,np_temp))\n",
    "\n",
    "input_data = np.hstack((inputs,targets))\n",
    "\n",
    "# print(input_data)"
   ]
  },
  {
   "cell_type": "markdown",
   "metadata": {},
   "source": [
    "get input data array"
   ]
  },
  {
   "cell_type": "code",
   "execution_count": 54,
   "metadata": {},
   "outputs": [],
   "source": [
    "input_median = np.median(input_data, axis=0)\n",
    "\n",
    "# print(input_median)\n",
    "\n",
    "target_count = [0,0,0]\n",
    "\n",
    "for i in input_data:\n",
    "    target_count[int(i[4])] += 1\n"
   ]
  },
  {
   "cell_type": "markdown",
   "metadata": {},
   "source": [
    "get species counts and feature median"
   ]
  },
  {
   "cell_type": "code",
   "execution_count": 55,
   "metadata": {},
   "outputs": [
    {
     "name": "stdout",
     "output_type": "stream",
     "text": [
      "species count : [50, 50, 50]\n",
      "feature 0, median = 5.80\n",
      "feature 1, median = 3.00\n",
      "feature 2, median = 4.35\n",
      "feature 3, median = 1.30\n"
     ]
    },
    {
     "data": {
      "image/png": "[encoded data removed]",
      "text/plain": [
       "<Figure size 432x288 with 1 Axes>"
      ]
     },
     "metadata": {
      "needs_background": "light"
     },
     "output_type": "display_data"
    }
   ],
   "source": [
    "print(f\"species count : {target_count}\")\n",
    "\n",
    "for i in range(4):\n",
    "    print(f\"feature {i}, median = {input_median[i]:.2f}\")\n",
    "\n",
    "feature = np.array(range(4))\n",
    "plt.bar(feature,input_median[0:4], width=0.5, color='blue')\n",
    "plt.xlabel(\"feature\")\n",
    "plt.ylabel(\"median\")\n",
    "plt.show()"
   ]
  },
  {
   "cell_type": "markdown",
   "metadata": {},
   "source": [
    "print result"
   ]
  },
  {
   "cell_type": "code",
   "execution_count": 58,
   "metadata": {},
   "outputs": [],
   "source": [
    "output_file = open(\"./0811074_linyuanchi_iris_data.csv\", 'w')\n",
    "\n",
    "np.random.shuffle(input_data)\n",
    "\n",
    "for data in input_data:\n",
    "\n",
    "    for i in range(len(data)):\n",
    "        output_file.write(f\"{data[i]},\")\n",
    "    \n",
    "    output_file.write(\"\\n\")\n",
    "    \n",
    "\n",
    "output_file.close()"
   ]
  }
 ],
 "metadata": {
  "kernelspec": {
   "display_name": "Python 3.9.12 ('base')",
   "language": "python",
   "name": "python3"
  },
  "language_info": {
   "codemirror_mode": {
    "name": "ipython",
    "version": 3
   },
   "file_extension": ".py",
   "mimetype": "text/x-python",
   "name": "python",
   "nbconvert_exporter": "python",
   "pygments_lexer": "ipython3",
   "version": "3.9.12"
  },
  "orig_nbformat": 4,
  "vscode": {
   "interpreter": {
    "hash": "b5fbbcf22b139417e008803b3e2cbc70cb85acf98954c351416a6d3da305ab5e"
   }
  }
 },
 "nbformat": 4,
 "nbformat_minor": 2
}
