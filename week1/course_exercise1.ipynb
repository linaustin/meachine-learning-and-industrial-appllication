{
 "cells": [
  {
   "cell_type": "code",
   "execution_count": 24,
   "metadata": {},
   "outputs": [],
   "source": [
    "import cmath\n",
    "\n",
    "def solve_2order_equation(a,b,c):\n",
    "    root_sqrt = cmath.sqrt(b**2 - (4*a*c))\n",
    "\n",
    "    root1_real = (-b + root_sqrt.real)/(2*a)\n",
    "    root1_imag = root_sqrt.imag/(2*a)\n",
    "\n",
    "    root2_real = (-b - root_sqrt.real)/(2*a)\n",
    "    root2_imag = -1*(root_sqrt.imag/(2*a))\n",
    "\n",
    "    root1 = complex(root1_real, root1_imag)\n",
    "    root2 = complex(root2_real, root2_imag)\n",
    "\n",
    "    print(f\"root1 : {root1} root2: {root2}\")"
   ]
  },
  {
   "cell_type": "markdown",
   "metadata": {},
   "source": []
  },
  {
   "cell_type": "code",
   "execution_count": 25,
   "metadata": {},
   "outputs": [
    {
     "name": "stdout",
     "output_type": "stream",
     "text": [
      "solve 2nd polynomial (a*x^2 + b*x +c = 0\n",
      "4\n",
      "5\n",
      "1\n",
      "root1 : (-0.25+0j) root2: (-1-0j)\n"
     ]
    }
   ],
   "source": [
    "\n",
    "print(\"solve 2nd polynomial (a*x^2 + b*x +c = 0\")\n",
    "\n",
    "a = int(input(\"enter coeficent of x^2\"))\n",
    "b = int(input(\"enter coeficent of x\"))\n",
    "c = int(input(\"enter constant\"))\n",
    "\n",
    "solve_2order_equation(a,b,c)"
   ]
  }
 ],
 "metadata": {
  "kernelspec": {
   "display_name": "Python 3.9.12 ('base')",
   "language": "python",
   "name": "python3"
  },
  "language_info": {
   "codemirror_mode": {
    "name": "ipython",
    "version": 3
   },
   "file_extension": ".py",
   "mimetype": "text/x-python",
   "name": "python",
   "nbconvert_exporter": "python",
   "pygments_lexer": "ipython3",
   "version": "3.9.12"
  },
  "orig_nbformat": 4,
  "vscode": {
   "interpreter": {
    "hash": "b5fbbcf22b139417e008803b3e2cbc70cb85acf98954c351416a6d3da305ab5e"
   }
  }
 },
 "nbformat": 4,
 "nbformat_minor": 2
}
