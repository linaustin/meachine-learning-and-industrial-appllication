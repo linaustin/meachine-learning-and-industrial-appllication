{
 "cells": [
  {
   "cell_type": "code",
   "execution_count": 2,
   "metadata": {},
   "outputs": [],
   "source": [
    "import pandas as pd\n",
    "import numpy as np\n",
    "from sklearn.neural_network import MLPClassifier\n",
    "from sklearn.svm import SVC\n",
    "from sklearn.model_selection import train_test_split"
   ]
  },
  {
   "cell_type": "code",
   "execution_count": 3,
   "metadata": {},
   "outputs": [],
   "source": [
    "class mlp_classifier:\n",
    "    def __init__(self, hidden_layer, solver_type='adam', activation_type='relu'):\n",
    "        self.__model = MLPClassifier(hidden_layer_sizes=hidden_layer, solver=solver_type, activation=activation_type, max_iter=20000)\n",
    "        self.__hidden_layer_sizes = hidden_layer\n",
    "        self.__solver = solver_type\n",
    "        self.__activation = activation_type\n",
    "\n",
    "    def train(self, x_data, y_data):\n",
    "        self.__model.fit(x_data, y_data)\n",
    "\n",
    "    def score(self, x_data, y_data):\n",
    "        test_score = self.__model.score(x_data, y_data)\n",
    "        print(f'MLP (hidden layer sizes:{self.__hidden_layer_sizes} solver:{self.__solver} activation:{self.__activation}) training score: {test_score:.3f}')"
   ]
  },
  {
   "cell_type": "code",
   "execution_count": 4,
   "metadata": {},
   "outputs": [],
   "source": [
    "class svc_classifier:\n",
    "    def __init__(self, c_val, gamma_val, kernel_type='rbf'):\n",
    "        self.__model = SVC(C=c_val, gamma=gamma_val, kernel=kernel_type)\n",
    "        self.__C = c_val\n",
    "        self.__gamma = gamma_val\n",
    "        self.__kernel = kernel_type\n",
    "\n",
    "    def train(self, x_data, y_data):\n",
    "        self.__model.fit(x_data, y_data)\n",
    "\n",
    "    def score(self, x_data, y_data):\n",
    "        test_score = self.__model.score(x_data, y_data)\n",
    "        print(f'SVC (C:{self.__C} gamma:{self.__gamma} kernel:{self.__kernel}) training score: {test_score:.3f}')\n"
   ]
  },
  {
   "cell_type": "code",
   "execution_count": 5,
   "metadata": {},
   "outputs": [],
   "source": [
    "raw_data = pd.read_csv('./hw6_haberman.csv')\n",
    "raw_data = raw_data.to_numpy()\n",
    "\n",
    "raw_x = raw_data[:,0:3]\n",
    "raw_y = raw_data[:,3]\n",
    "del raw_data"
   ]
  },
  {
   "cell_type": "code",
   "execution_count": 6,
   "metadata": {},
   "outputs": [
    {
     "name": "stdout",
     "output_type": "stream",
     "text": [
      "MLP (hidden layer sizes:(100, 100, 100) solver:lbfgs activation:tanh) training score: 0.925\n",
      "SVC (C:5 gamma:0.1 kernel:rbf) training score: 0.925\n"
     ]
    },
    {
     "name": "stderr",
     "output_type": "stream",
     "text": [
      "c:\\Users\\linau\\anaconda3\\lib\\site-packages\\sklearn\\neural_network\\_multilayer_perceptron.py:549: ConvergenceWarning: lbfgs failed to converge (status=1):\n",
      "STOP: TOTAL NO. of f AND g EVALUATIONS EXCEEDS LIMIT.\n",
      "\n",
      "Increase the number of iterations (max_iter) or scale the data as shown in:\n",
      "    https://scikit-learn.org/stable/modules/preprocessing.html\n",
      "  self.n_iter_ = _check_optimize_result(\"lbfgs\", opt_res, self.max_iter)\n"
     ]
    }
   ],
   "source": [
    "mlp_1 = mlp_classifier(hidden_layer=(100,100,100), solver_type='lbfgs', activation_type='tanh')\n",
    "mlp_1.train(raw_x, raw_y)\n",
    "mlp_1.score(raw_x, raw_y)\n",
    "\n",
    "svc_1 = svc_classifier(c_val=5, gamma_val=0.1, kernel_type='rbf')\n",
    "svc_1.train(raw_x, raw_y)\n",
    "svc_1.score(raw_x, raw_y)"
   ]
  }
 ],
 "metadata": {
  "kernelspec": {
   "display_name": "base",
   "language": "python",
   "name": "python3"
  },
  "language_info": {
   "codemirror_mode": {
    "name": "ipython",
    "version": 3
   },
   "file_extension": ".py",
   "mimetype": "text/x-python",
   "name": "python",
   "nbconvert_exporter": "python",
   "pygments_lexer": "ipython3",
   "version": "3.9.12 (main, Apr  4 2022, 05:22:27) [MSC v.1916 64 bit (AMD64)]"
  },
  "orig_nbformat": 4,
  "vscode": {
   "interpreter": {
    "hash": "b5fbbcf22b139417e008803b3e2cbc70cb85acf98954c351416a6d3da305ab5e"
   }
  }
 },
 "nbformat": 4,
 "nbformat_minor": 2
}
