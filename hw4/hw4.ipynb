{
 "cells": [
  {
   "cell_type": "code",
   "execution_count": 58,
   "metadata": {},
   "outputs": [],
   "source": [
    "from ML_tool import file_tool\n",
    "from ML_tool import ridge_tool\n",
    "from sklearn.model_selection import train_test_split\n",
    "import numpy as np"
   ]
  },
  {
   "cell_type": "code",
   "execution_count": 59,
   "metadata": {},
   "outputs": [
    {
     "name": "stdout",
     "output_type": "stream",
     "text": [
      "(506, 104)\n"
     ]
    }
   ],
   "source": [
    "data_file = file_tool.input_file('./hw4_boston.csv')\n",
    "data_file.read_from_file()\n",
    "raw_x_data, raw_y_data = data_file.sort_boston_dataset()\n",
    "\n",
    "raw_x_data = np.array(raw_x_data)\n",
    "raw_y_data = np.array(raw_y_data)\n",
    "\n",
    "print(raw_x_data.shape)"
   ]
  },
  {
   "cell_type": "code",
   "execution_count": 60,
   "metadata": {},
   "outputs": [
    {
     "name": "stdout",
     "output_type": "stream",
     "text": [
      "(420, 104)\n",
      "(86, 104)\n",
      "\n",
      "Ridge (alpha 1) Boston, fold 0, train/test score: 0.85/0.82\n",
      "Ridge (alpha 1) Boston, fold 1, train/test score: 0.84/0.84\n",
      "Ridge (alpha 1) Boston, fold 2, train/test score: 0.85/0.78\n",
      "Ridge (alpha 1) Boston, fold 3, train/test score: 0.85/0.78\n",
      "Ridge (alpha 1) Boston, fold 4, train/test score: 0.84/0.83\n",
      "\n",
      "Ridge (alpha 1) Boston, 5-fold train/test average score: 0.85/0.81\n",
      "\n",
      "Ridge (alpha 1) Boston, 5-fold/verify score: 0.85/0.88\n"
     ]
    }
   ],
   "source": [
    "x_train, x_test, y_train, y_test = train_test_split(raw_x_data, raw_y_data, test_size=86)\n",
    "\n",
    "print(x_train.shape)\n",
    "print(x_test.shape, end='\\n\\n')\n",
    "\n",
    "ridge_reg = ridge_tool.ridge_regression(1)\n",
    "train_score, valid_score = ridge_reg.cross_valid(x_train, y_train)\n",
    "print('')\n",
    "\n",
    "print(f'Ridge (alpha {ridge_reg.ridge_alpha}) Boston, 5-fold train/test average score: ', end='')\n",
    "print(f'{train_score:.2f}/{valid_score:.2f}')\n",
    "print()\n",
    "\n",
    "print(f'Ridge (alpha {ridge_reg.ridge_alpha}) Boston, 5-fold/verify score: ', end='')\n",
    "print(f'{train_score:.2f}/{ridge_reg.score(x_test, y_test):.2f}')"
   ]
  }
 ],
 "metadata": {
  "kernelspec": {
   "display_name": "Python 3.9.12 ('base')",
   "language": "python",
   "name": "python3"
  },
  "language_info": {
   "codemirror_mode": {
    "name": "ipython",
    "version": 3
   },
   "file_extension": ".py",
   "mimetype": "text/x-python",
   "name": "python",
   "nbconvert_exporter": "python",
   "pygments_lexer": "ipython3",
   "version": "3.9.12"
  },
  "orig_nbformat": 4,
  "vscode": {
   "interpreter": {
    "hash": "b5fbbcf22b139417e008803b3e2cbc70cb85acf98954c351416a6d3da305ab5e"
   }
  }
 },
 "nbformat": 4,
 "nbformat_minor": 2
}
