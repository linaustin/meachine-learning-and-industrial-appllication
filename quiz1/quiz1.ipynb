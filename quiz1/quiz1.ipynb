{
 "cells": [
  {
   "cell_type": "code",
   "execution_count": 114,
   "metadata": {},
   "outputs": [],
   "source": [
    "import numpy as np\n",
    "import matplotlib.pyplot as plt\n",
    "import math"
   ]
  },
  {
   "cell_type": "markdown",
   "metadata": {},
   "source": [
    "import necessery library"
   ]
  },
  {
   "cell_type": "code",
   "execution_count": 115,
   "metadata": {},
   "outputs": [],
   "source": [
    "def coordinate_convert(angle, input_data):\n",
    "    count = 0\n",
    "\n",
    "    angle = (angle/360) * 2*math.pi\n",
    "\n",
    "    for i in range(len(input_data)):\n",
    "\n",
    "        count += 1\n",
    "\n",
    "        new_x = math.cos(angle)*input_data[i][0] - math.sin(angle)*input_data[i][1]\n",
    "        new_y = math.sin(angle)*input_data[i][0] + math.cos(angle)*input_data[i][1]\n",
    "\n",
    "        new_point = [new_x, new_y]\n",
    "\n",
    "        # print(input_data[i])\n",
    "        # print(new_point)\n",
    "\n",
    "        if(count == 1):\n",
    "            output_data = np.array(new_point)\n",
    "        else:\n",
    "            temp = np.array(new_point)\n",
    "            output_data = np.vstack((output_data,temp))\n",
    "\n",
    "    return output_data"
   ]
  },
  {
   "cell_type": "code",
   "execution_count": 116,
   "metadata": {},
   "outputs": [],
   "source": [
    "input_file = open('data1.txt', 'r')\n",
    "\n",
    "raw_data = input_file.readlines()\n",
    "\n",
    "input_file.close()\n",
    "\n",
    "for i in range(len(raw_data)):\n",
    "    raw_data[i] = raw_data[i].lstrip(' [')\n",
    "    raw_data[i] = raw_data[i].rstrip(']\\n')\n",
    "    raw_data[i] = raw_data[i].strip()\n",
    "\n",
    "    if(raw_data[i] == ''):\n",
    "        del raw_data[i]\n",
    "    \n",
    "# print(raw_data)"
   ]
  },
  {
   "cell_type": "markdown",
   "metadata": {},
   "source": [
    "read data from file"
   ]
  },
  {
   "cell_type": "code",
   "execution_count": 117,
   "metadata": {},
   "outputs": [],
   "source": [
    "count = 0\n",
    "\n",
    "for data in raw_data:\n",
    "    count += 1\n",
    "\n",
    "    temp = data.split()\n",
    "\n",
    "    for i in range(len(temp)):\n",
    "        temp[i] = float(temp[i])\n",
    "\n",
    "    if(count == 1):\n",
    "        input_data = np.array(temp)\n",
    "    else:\n",
    "        arr_temp = np.array(temp)\n",
    "        input_data = np.vstack((input_data, arr_temp))\n",
    "\n",
    "# print(input_data)"
   ]
  },
  {
   "cell_type": "markdown",
   "metadata": {},
   "source": [
    "sort raw_data and transfer to np array"
   ]
  },
  {
   "cell_type": "code",
   "execution_count": 118,
   "metadata": {},
   "outputs": [],
   "source": [
    "rotation_angle = float(input(\"enter the rotation angle in degree : \"))\n",
    "\n",
    "output_data = coordinate_convert(rotation_angle, input_data)\n",
    "\n",
    "# print(output_data)"
   ]
  },
  {
   "cell_type": "markdown",
   "metadata": {},
   "source": [
    "convert coordinate"
   ]
  },
  {
   "cell_type": "code",
   "execution_count": 119,
   "metadata": {},
   "outputs": [],
   "source": [
    "output_file = open('frame0.csv', 'w')\n",
    "\n",
    "for data in output_data:\n",
    "    for i in range(len(data)):\n",
    "        output_file.write(f\"{data[i]:.3f},\")\n",
    "    \n",
    "    output_file.write(\"\\n\")\n",
    "\n",
    "output_file.close()"
   ]
  },
  {
   "cell_type": "markdown",
   "metadata": {},
   "source": [
    "output data to csv file"
   ]
  },
  {
   "cell_type": "code",
   "execution_count": 124,
   "metadata": {},
   "outputs": [
    {
     "data": {
      "image/png": "[encoded data removed]",
      "text/plain": [
       "<Figure size 432x288 with 1 Axes>"
      ]
     },
     "metadata": {
      "needs_background": "light"
     },
     "output_type": "display_data"
    }
   ],
   "source": [
    "x_list = []\n",
    "y_list = []\n",
    "\n",
    "for data in output_data:\n",
    "    x_list.append(data[0])\n",
    "    y_list.append(data[1])\n",
    "\n",
    "x_arr = np.array(x_list)\n",
    "y_arr = np.array(y_list)\n",
    "\n",
    "plt.plot(x_arr, y_arr, 'ro-', linewidth = 5, markersize=20)\n",
    "plt.bar(x_arr, y_arr, width = 0.1, color='green', label = 'after rotation')\n",
    "plt.legend()\n",
    "plt.xlabel('x coord.')\n",
    "plt.ylabel('y coord.')\n",
    "\n",
    "plt.show()"
   ]
  }
 ],
 "metadata": {
  "kernelspec": {
   "display_name": "Python 3.9.12 ('base')",
   "language": "python",
   "name": "python3"
  },
  "language_info": {
   "codemirror_mode": {
    "name": "ipython",
    "version": 3
   },
   "file_extension": ".py",
   "mimetype": "text/x-python",
   "name": "python",
   "nbconvert_exporter": "python",
   "pygments_lexer": "ipython3",
   "version": "3.9.12"
  },
  "orig_nbformat": 4,
  "vscode": {
   "interpreter": {
    "hash": "b5fbbcf22b139417e008803b3e2cbc70cb85acf98954c351416a6d3da305ab5e"
   }
  }
 },
 "nbformat": 4,
 "nbformat_minor": 2
}
