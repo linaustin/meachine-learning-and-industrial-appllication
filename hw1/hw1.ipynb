{
 "cells": [
  {
   "cell_type": "code",
   "execution_count": 22,
   "metadata": {},
   "outputs": [],
   "source": [
    "my_name = \"Yuan_Chi_Lin\"\n",
    "my_ID = \"0811074\"\n",
    "\n",
    "seraching_range = [200, 9900]\n",
    "#print(seraching_range)"
   ]
  },
  {
   "cell_type": "code",
   "execution_count": 23,
   "metadata": {},
   "outputs": [],
   "source": [
    "prime = [1, 2]\n",
    "\n",
    "for test_number in range(3, seraching_range[1]+1, 2):\n",
    "    is_prime = True\n",
    "\n",
    "    for prime_number in prime:\n",
    "        if((test_number % prime_number) == 0 and prime_number != 1):\n",
    "            is_prime = False\n",
    "            break\n",
    "\n",
    "    if(is_prime):\n",
    "        prime.append(test_number)\n",
    "\n",
    "for i in range(0, len(prime)):\n",
    "\n",
    "    if(prime[0] < seraching_range[0]):\n",
    "        del prime[0]\n",
    "    else:\n",
    "        break\n",
    "\n",
    "# print(prime)\n",
    "    "
   ]
  },
  {
   "cell_type": "code",
   "execution_count": 24,
   "metadata": {},
   "outputs": [],
   "source": [
    "file_path = \"./\" + my_name + \"_prime_found.txt\"\n",
    "#print(file_path)\n",
    "\n",
    "file = open(file_path, 'w')\n",
    "\n",
    "count = 0\n",
    "\n",
    "for i in range(1, (len(prime) + 1)):\n",
    "    count += 1\n",
    "    \n",
    "    file.write(f\"{prime[-1*i]} \")\n",
    "\n",
    "    if(count == 6):\n",
    "        file.write(\"\\n\")\n",
    "        count = 0\n",
    "\n",
    "\n",
    "file.close()"
   ]
  },
  {
   "cell_type": "code",
   "execution_count": 25,
   "metadata": {},
   "outputs": [],
   "source": [
    "input_file = open(file_path, 'r')\n",
    "\n",
    "data = input_file.read()\n",
    "data = data.split()\n",
    "\n",
    "for i in range(0, len(data)):\n",
    "    data[i] = int(data[i])"
   ]
  },
  {
   "cell_type": "code",
   "execution_count": 26,
   "metadata": {},
   "outputs": [
    {
     "name": "stdout",
     "output_type": "stream",
     "text": [
      "I,Yuan_Chi_Lin,0811074,found 353 prime numbers between 3000 and 6000\n"
     ]
    }
   ],
   "source": [
    "target_range =  [3000, 6000]\n",
    "\n",
    "target_count = 0\n",
    "\n",
    "for i in data:\n",
    "    if(i >= target_range[0] and i <= target_range[1]):\n",
    "        target_count +=1\n",
    "    elif(i < target_range[0]):\n",
    "        break\n",
    "\n",
    "print(f\"I,{my_name},{my_ID},found {target_count} prime numbers between {target_range[0]} and {target_range[1]}\")\n",
    "\n",
    "input_file.close()"
   ]
  }
 ],
 "metadata": {
  "kernelspec": {
   "display_name": "Python 3.9.12 ('base')",
   "language": "python",
   "name": "python3"
  },
  "language_info": {
   "codemirror_mode": {
    "name": "ipython",
    "version": 3
   },
   "file_extension": ".py",
   "mimetype": "text/x-python",
   "name": "python",
   "nbconvert_exporter": "python",
   "pygments_lexer": "ipython3",
   "version": "3.9.12"
  },
  "orig_nbformat": 4,
  "vscode": {
   "interpreter": {
    "hash": "b5fbbcf22b139417e008803b3e2cbc70cb85acf98954c351416a6d3da305ab5e"
   }
  }
 },
 "nbformat": 4,
 "nbformat_minor": 2
}
