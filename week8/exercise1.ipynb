{
 "cells": [
  {
   "cell_type": "code",
   "execution_count": 91,
   "metadata": {},
   "outputs": [],
   "source": [
    "import numpy as np\n",
    "import mglearn\n",
    "import matplotlib.pyplot as plt \n",
    "from ML_tool import file_tool\n",
    "from sklearn.model_selection import train_test_split\n",
    "from sklearn.linear_model import Lasso"
   ]
  },
  {
   "cell_type": "code",
   "execution_count": 92,
   "metadata": {},
   "outputs": [],
   "source": [
    "data_file = file_tool.input_file('./boston_scikit_Xy.csv')\n",
    "data_file.read_from_file()\n",
    "raw_x, raw_y = data_file.sort_boston_dataset()\n",
    "\n",
    "raw_x = np.array(raw_x)\n",
    "raw_y = np.array(raw_y)"
   ]
  },
  {
   "cell_type": "code",
   "execution_count": 93,
   "metadata": {},
   "outputs": [
    {
     "name": "stdout",
     "output_type": "stream",
     "text": [
      "lasso() :0.23/0.24\n",
      "-------------\n",
      "lasso(0.01) :0.88/0.83\n",
      "-------------\n"
     ]
    }
   ],
   "source": [
    "x_train, x_test, y_train, y_test = train_test_split(raw_x, raw_y)\n",
    "\n",
    "lasso = Lasso()\n",
    "lasso.fit(x_train, y_train)\n",
    "print(f'lasso() :{lasso.score(x_train, y_train):.2f}/{lasso.score(x_test, y_test):.2f}')\n",
    "print('-------------')\n",
    "\n",
    "lasso_1 = Lasso(alpha=0.01, max_iter=100000).fit(x_train, y_train)\n",
    "print(f'lasso(0.01) :{lasso_1.score(x_train, y_train):.2f}/{lasso_1.score(x_test, y_test):.2f}')\n",
    "print('-------------')"
   ]
  }
 ],
 "metadata": {
  "kernelspec": {
   "display_name": "Python 3.9.12 ('base')",
   "language": "python",
   "name": "python3"
  },
  "language_info": {
   "codemirror_mode": {
    "name": "ipython",
    "version": 3
   },
   "file_extension": ".py",
   "mimetype": "text/x-python",
   "name": "python",
   "nbconvert_exporter": "python",
   "pygments_lexer": "ipython3",
   "version": "3.9.12"
  },
  "orig_nbformat": 4,
  "vscode": {
   "interpreter": {
    "hash": "b5fbbcf22b139417e008803b3e2cbc70cb85acf98954c351416a6d3da305ab5e"
   }
  }
 },
 "nbformat": 4,
 "nbformat_minor": 2
}
