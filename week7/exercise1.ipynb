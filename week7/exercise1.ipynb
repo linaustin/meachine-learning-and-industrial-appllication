{
 "cells": [
  {
   "cell_type": "code",
   "execution_count": 2,
   "metadata": {},
   "outputs": [],
   "source": [
    "from ML_tool import file_tool\n",
    "from sklearn.linear_model import LinearRegression"
   ]
  },
  {
   "cell_type": "code",
   "execution_count": 6,
   "metadata": {},
   "outputs": [
    {
     "name": "stdout",
     "output_type": "stream",
     "text": [
      "[0.26134393, 0.29262945, -0.70117304, -1.7113156, -1.32035898, 1.19812891, -0.74646948, 0.95081838, -1.03731593, 0.79900059, -1.7240941, -0.94575843, 0.97923163, 0.44971554, -0.72142625, -1.11948406, -0.32691082, -0.38575444, 0.82614241, 1.39515571, -0.83684971, 1.28948157, -0.32309571, -0.9139074, -0.08137001, -0.75150632, 0.50015912, -0.75240909, 0.13772889, 0.77613985, -0.93416482, 0.38109799, 0.13368988, -1.58831973, -0.48647165, -0.17851354, -1.25635546, -0.49131681, 0.96250584, 1.20319981, -0.44713127, -1.27708305, 0.65823236, 0.25092544, 0.81263817, -1.18073311, -2.37364735, -0.19612826, 0.40012342, -1.30838148, 0.65213403, 0.70945882, 0.23938228, 1.0738403, -1.54664568, -0.02565504, 0.73141352, -1.0767626, 1.17396178, 1.01581268]\n"
     ]
    }
   ],
   "source": [
    "raw_file = file_tool.input_file('./wave60_dataset.txt')\n",
    "raw_file.read_from_file()\n",
    "raw_x_data , raw_y_data = raw_file.sort_wave_dataset()\n",
    "print(raw_y_data)"
   ]
  }
 ],
 "metadata": {
  "kernelspec": {
   "display_name": "Python 3.9.12 ('base')",
   "language": "python",
   "name": "python3"
  },
  "language_info": {
   "codemirror_mode": {
    "name": "ipython",
    "version": 3
   },
   "file_extension": ".py",
   "mimetype": "text/x-python",
   "name": "python",
   "nbconvert_exporter": "python",
   "pygments_lexer": "ipython3",
   "version": "3.9.12"
  },
  "orig_nbformat": 4,
  "vscode": {
   "interpreter": {
    "hash": "b5fbbcf22b139417e008803b3e2cbc70cb85acf98954c351416a6d3da305ab5e"
   }
  }
 },
 "nbformat": 4,
 "nbformat_minor": 2
}
