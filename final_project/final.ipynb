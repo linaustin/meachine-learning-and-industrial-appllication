{
 "cells": [
  {
   "cell_type": "code",
   "execution_count": 2,
   "metadata": {},
   "outputs": [],
   "source": [
    "import pandas as pd\n",
    "import numpy as np"
   ]
  },
  {
   "cell_type": "code",
   "execution_count": 20,
   "metadata": {},
   "outputs": [
    {
     "name": "stdout",
     "output_type": "stream",
     "text": [
      "<class 'pandas.core.frame.DataFrame'>\n",
      "RangeIndex: 2531 entries, 0 to 2530\n",
      "Data columns (total 5 columns):\n",
      " #   Column  Non-Null Count  Dtype  \n",
      "---  ------  --------------  -----  \n",
      " 0   x3      2531 non-null   float64\n",
      " 1   x12     2531 non-null   float64\n",
      " 2   x23     2531 non-null   float64\n",
      " 3   x33     2531 non-null   float64\n",
      " 4   x52     2531 non-null   float64\n",
      "dtypes: float64(5)\n",
      "memory usage: 99.0 KB\n"
     ]
    }
   ],
   "source": [
    "data_frame = pd.read_csv('./cost-of-living_v2.csv')\n",
    "\n",
    "drop_list = data_frame.columns.tolist()\n",
    "drop_list.remove('x3')\n",
    "drop_list.remove('x12')\n",
    "drop_list.remove('x23')\n",
    "drop_list.remove('x33')\n",
    "drop_list.remove('x52')\n",
    "\n",
    "data_frame = data_frame.drop(drop_list, axis=1)\n",
    "data_frame = data_frame.dropna()\n",
    "data_frame = data_frame.reset_index(drop=True)\n",
    "data_frame.info()\n",
    "\n",
    "raw_data = data_frame.to_numpy()"
   ]
  },
  {
   "cell_type": "code",
   "execution_count": null,
   "metadata": {},
   "outputs": [],
   "source": []
  }
 ],
 "metadata": {
  "kernelspec": {
   "display_name": "Python 3.9.12 ('base')",
   "language": "python",
   "name": "python3"
  },
  "language_info": {
   "codemirror_mode": {
    "name": "ipython",
    "version": 3
   },
   "file_extension": ".py",
   "mimetype": "text/x-python",
   "name": "python",
   "nbconvert_exporter": "python",
   "pygments_lexer": "ipython3",
   "version": "3.9.12"
  },
  "orig_nbformat": 4,
  "vscode": {
   "interpreter": {
    "hash": "b5fbbcf22b139417e008803b3e2cbc70cb85acf98954c351416a6d3da305ab5e"
   }
  }
 },
 "nbformat": 4,
 "nbformat_minor": 2
}
